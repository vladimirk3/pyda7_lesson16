{
 "cells": [
  {
   "cell_type": "markdown",
   "metadata": {
    "colab_type": "text",
    "id": "view-in-github"
   },
   "source": [
    "<a href=\"https://colab.research.google.com/github/yustinaivanova/netology_statistics/blob/master/dz_2.ipynb\" target=\"_parent\"><img src=\"https://colab.research.google.com/assets/colab-badge.svg\" alt=\"Open In Colab\"/></a>"
   ]
  },
  {
   "cell_type": "markdown",
   "metadata": {
    "colab_type": "text",
    "id": "9wqpiQR2AbtX"
   },
   "source": [
    "# Виды распределений"
   ]
  },
  {
   "cell_type": "markdown",
   "metadata": {
    "colab_type": "text",
    "id": "V3N8qycM-xP9"
   },
   "source": [
    "Загрузить таблицу и построить график распределений. Найти нормальное распределение."
   ]
  },
  {
   "cell_type": "code",
   "execution_count": 1,
   "metadata": {
    "colab": {},
    "colab_type": "code",
    "id": "Zo_j9HCKCPgi"
   },
   "outputs": [],
   "source": [
    "import numpy as np\n",
    "from scipy.stats import t\n",
    "from scipy.stats import norm\n",
    "import matplotlib.pyplot as plt\n",
    "from scipy import stats\n",
    "import pandas as pd\n",
    "import io\n",
    "import requests\n",
    "import seaborn as sns\n",
    "\n",
    "%matplotlib inline"
   ]
  },
  {
   "cell_type": "markdown",
   "metadata": {
    "colab_type": "text",
    "id": "LrhPyaIACZsb"
   },
   "source": [
    "Таблица цен на дома в Бостоне"
   ]
  },
  {
   "cell_type": "markdown",
   "metadata": {
    "colab_type": "text",
    "id": "XyNNmtvIDDy3"
   },
   "source": [
    "Основные значения:\n",
    "\n",
    "* CRIM: This is the per capita crime rate by town\n",
    "* ZN: This is the proportion of residential land zoned for lots larger than 25,000 sq.ft.\n",
    "* INDUS: This is the proportion of non-retail business acres per town.\n",
    "* CHAS: This is the Charles River dummy variable (this is equal to 1 if tract bounds river; 0 otherwise)\n",
    "* NOX: This is the nitric oxides concentration (parts per 10 million)\n",
    "* RM: This is the average number of rooms per dwelling\n",
    "* AGE: This is the proportion of owner-occupied units built prior to 1940\n",
    "* DIS: This is the weighted distances to five Boston employment centers\n",
    "* RAD: This is the index of accessibility to radial highways\n",
    "* TAX: This is the full-value property-tax rate per 10,000 dollars\n",
    "* PTRATIO: This is the pupil-teacher ratio by town\n",
    "* B: This is calculated as 1000(Bk — 0.63)², where Bk is the proportion of people of African American descent by town\n",
    "* LSTAT: This is the percentage lower status of the population\n",
    "* MEDV: This is the median value of owner-occupied homes in 1000 dollars"
   ]
  },
  {
   "cell_type": "code",
   "execution_count": 181,
   "metadata": {
    "colab": {
     "base_uri": "https://localhost:8080/",
     "height": 204
    },
    "colab_type": "code",
    "id": "Ona1gs72CZOq",
    "outputId": "455f9f96-3f49-4eb7-c928-fc732141d834"
   },
   "outputs": [
    {
     "data": {
      "text/html": [
       "<div>\n",
       "<style scoped>\n",
       "    .dataframe tbody tr th:only-of-type {\n",
       "        vertical-align: middle;\n",
       "    }\n",
       "\n",
       "    .dataframe tbody tr th {\n",
       "        vertical-align: top;\n",
       "    }\n",
       "\n",
       "    .dataframe thead th {\n",
       "        text-align: right;\n",
       "    }\n",
       "</style>\n",
       "<table border=\"1\" class=\"dataframe\">\n",
       "  <thead>\n",
       "    <tr style=\"text-align: right;\">\n",
       "      <th></th>\n",
       "      <th>CRIM</th>\n",
       "      <th>ZN</th>\n",
       "      <th>INDUS</th>\n",
       "      <th>CHAS</th>\n",
       "      <th>NOX</th>\n",
       "      <th>RM</th>\n",
       "      <th>AGE</th>\n",
       "      <th>DIS</th>\n",
       "      <th>RAD</th>\n",
       "      <th>TAX</th>\n",
       "      <th>PTRATIO</th>\n",
       "      <th>B</th>\n",
       "      <th>LSTAT</th>\n",
       "      <th>MEDV</th>\n",
       "    </tr>\n",
       "  </thead>\n",
       "  <tbody>\n",
       "    <tr>\n",
       "      <td>0</td>\n",
       "      <td>0.00632</td>\n",
       "      <td>18.0</td>\n",
       "      <td>2.31</td>\n",
       "      <td>0</td>\n",
       "      <td>0.538</td>\n",
       "      <td>6.575</td>\n",
       "      <td>65.2</td>\n",
       "      <td>4.0900</td>\n",
       "      <td>1</td>\n",
       "      <td>296.0</td>\n",
       "      <td>15.3</td>\n",
       "      <td>396.90</td>\n",
       "      <td>4.98</td>\n",
       "      <td>24.0</td>\n",
       "    </tr>\n",
       "    <tr>\n",
       "      <td>1</td>\n",
       "      <td>0.02731</td>\n",
       "      <td>0.0</td>\n",
       "      <td>7.07</td>\n",
       "      <td>0</td>\n",
       "      <td>0.469</td>\n",
       "      <td>6.421</td>\n",
       "      <td>78.9</td>\n",
       "      <td>4.9671</td>\n",
       "      <td>2</td>\n",
       "      <td>242.0</td>\n",
       "      <td>17.8</td>\n",
       "      <td>396.90</td>\n",
       "      <td>9.14</td>\n",
       "      <td>21.6</td>\n",
       "    </tr>\n",
       "    <tr>\n",
       "      <td>2</td>\n",
       "      <td>0.02729</td>\n",
       "      <td>0.0</td>\n",
       "      <td>7.07</td>\n",
       "      <td>0</td>\n",
       "      <td>0.469</td>\n",
       "      <td>7.185</td>\n",
       "      <td>61.1</td>\n",
       "      <td>4.9671</td>\n",
       "      <td>2</td>\n",
       "      <td>242.0</td>\n",
       "      <td>17.8</td>\n",
       "      <td>392.83</td>\n",
       "      <td>4.03</td>\n",
       "      <td>34.7</td>\n",
       "    </tr>\n",
       "    <tr>\n",
       "      <td>3</td>\n",
       "      <td>0.03237</td>\n",
       "      <td>0.0</td>\n",
       "      <td>2.18</td>\n",
       "      <td>0</td>\n",
       "      <td>0.458</td>\n",
       "      <td>6.998</td>\n",
       "      <td>45.8</td>\n",
       "      <td>6.0622</td>\n",
       "      <td>3</td>\n",
       "      <td>222.0</td>\n",
       "      <td>18.7</td>\n",
       "      <td>394.63</td>\n",
       "      <td>2.94</td>\n",
       "      <td>33.4</td>\n",
       "    </tr>\n",
       "    <tr>\n",
       "      <td>4</td>\n",
       "      <td>0.06905</td>\n",
       "      <td>0.0</td>\n",
       "      <td>2.18</td>\n",
       "      <td>0</td>\n",
       "      <td>0.458</td>\n",
       "      <td>7.147</td>\n",
       "      <td>54.2</td>\n",
       "      <td>6.0622</td>\n",
       "      <td>3</td>\n",
       "      <td>222.0</td>\n",
       "      <td>18.7</td>\n",
       "      <td>396.90</td>\n",
       "      <td>5.33</td>\n",
       "      <td>36.2</td>\n",
       "    </tr>\n",
       "  </tbody>\n",
       "</table>\n",
       "</div>"
      ],
      "text/plain": [
       "      CRIM    ZN  INDUS  CHAS    NOX     RM   AGE     DIS  RAD    TAX  \\\n",
       "0  0.00632  18.0   2.31     0  0.538  6.575  65.2  4.0900    1  296.0   \n",
       "1  0.02731   0.0   7.07     0  0.469  6.421  78.9  4.9671    2  242.0   \n",
       "2  0.02729   0.0   7.07     0  0.469  7.185  61.1  4.9671    2  242.0   \n",
       "3  0.03237   0.0   2.18     0  0.458  6.998  45.8  6.0622    3  222.0   \n",
       "4  0.06905   0.0   2.18     0  0.458  7.147  54.2  6.0622    3  222.0   \n",
       "\n",
       "   PTRATIO       B  LSTAT  MEDV  \n",
       "0     15.3  396.90   4.98  24.0  \n",
       "1     17.8  396.90   9.14  21.6  \n",
       "2     17.8  392.83   4.03  34.7  \n",
       "3     18.7  394.63   2.94  33.4  \n",
       "4     18.7  396.90   5.33  36.2  "
      ]
     },
     "execution_count": 181,
     "metadata": {},
     "output_type": "execute_result"
    }
   ],
   "source": [
    "import ssl\n",
    "# следующая строчка подключает сертификат для защищенного соединения\n",
    "ssl._create_default_https_context = ssl._create_unverified_context\n",
    "url='http://yustiks.ru/dataset/housing.csv'\n",
    "names = ['CRIM', 'ZN', 'INDUS', 'CHAS', 'NOX', 'RM', 'AGE', 'DIS', 'RAD', 'TAX', 'PTRATIO', 'B', 'LSTAT', 'MEDV']\n",
    "data=pd.read_csv(url,  delim_whitespace=True, names=names)\n",
    "data.head()\n",
    "#data.info()"
   ]
  },
  {
   "cell_type": "markdown",
   "metadata": {
    "colab_type": "text",
    "id": "KwpYBJZiE1EO"
   },
   "source": [
    "Нарисовать частотные графики для всех значений. Можете ли вы найти следующие распределения в данных графиках?\n",
    "\n",
    "\n",
    "1.   Нормальное\n",
    "2.   Равномерное\n",
    "3.   Биноминальное\n",
    "4.   Бернулли\n",
    "5.   Геометрическое\n",
    "6.   Логнормальное\n",
    "\n"
   ]
  },
  {
   "cell_type": "code",
   "execution_count": 182,
   "metadata": {},
   "outputs": [
    {
     "name": "stdout",
     "output_type": "stream",
     "text": [
      "Все распределения, кроме CHAS можно отнести к нерперывным величинам (не целые занчения, усредненные, поэтому значение может быть любым)\n",
      "Распределение CRIM больше похоже на непрерывное экспоненциальное\n",
      "Распределение ZN больше похоже на непрерывное экспоненциальное из-за большого количества нулевых значений. Но не является каким-то определенным\n",
      "Распределение INDUS больше похоже на логонормальное, но но не является им, так как зачения 16-18 чаще всего встречаются\n",
      "Распределение CHAS дискретное распределение Бернулли. имеет значения только 0 и 1\n",
      "Распределение NOX больше похоже на логонормальное распределенние, хотя при увеличении выборки можеи стать и экспоненциальным\n",
      "Распределение RM больше похоже на нормальное Гауссововсое распределение\n",
      "Распределение AGE - не знаю что это за распределние. нверное какое-то обратное для экспоненциального или логонормального\n",
      "Распределение DIS больше похоже на логонормальное рапределение\n",
      "Распределение RAD и TAX  затрудняюсь ответить. похоже на нормальное, но с выбросом справа\n",
      "Распределение PTRATIO больше похоже на обратное логонормальному\n",
      "Распределение B больше похоже на обратное экспоненциальному\n",
      "Распределение LSTAT больше похоже на логонормаьлное\n",
      "Распределение MEDV больше похоже на нормальное со смещением влево\n"
     ]
    }
   ],
   "source": [
    "print('Все распределения, кроме CHAS можно отнести к нерперывным величинам (не целые занчения, усредненные, поэтому значение может быть любым)')\n",
    "print('Распределение CRIM больше похоже на непрерывное экспоненциальное')\n",
    "print('Распределение ZN больше похоже на непрерывное экспоненциальное из-за большого количества нулевых значений. Но не является каким-то определенным')\n",
    "print('Распределение INDUS больше похоже на логонормальное, но но не является им, так как зачения 16-18 чаще всего встречаются')\n",
    "print('Распределение CHAS дискретное распределение Бернулли. имеет значения только 0 и 1')\n",
    "print('Распределение NOX больше похоже на логонормальное распределенние, хотя при увеличении выборки можеи стать и экспоненциальным')\n",
    "print('Распределение RM больше похоже на нормальное Гауссововсое распределение')\n",
    "print('Распределение AGE - не знаю что это за распределние. нверное какое-то обратное для экспоненциального или логонормального')\n",
    "print('Распределение DIS больше похоже на логонормальное рапределение')\n",
    "print('Распределение RAD и TAX  затрудняюсь ответить. похоже на нормальное, но с выбросом справа')\n",
    "print('Распределение PTRATIO больше похоже на обратное логонормальному')\n",
    "print('Распределение B больше похоже на обратное экспоненциальному')\n",
    "print('Распределение LSTAT больше похоже на логонормаьлное')\n",
    "print('Распределение MEDV больше похоже на нормальное со смещением влево')"
   ]
  },
  {
   "cell_type": "code",
   "execution_count": 183,
   "metadata": {},
   "outputs": [
    {
     "data": {
      "image/png": "[encoded data removed]",
      "text/plain": [
       "<Figure size 1080x2160 with 12 Axes>"
      ]
     },
     "metadata": {
      "needs_background": "light"
     },
     "output_type": "display_data"
    }
   ],
   "source": [
    "fig, ((ax_crim, ax_zn), \n",
    "      (ax_ind, ax_chas), \n",
    "      (ax_nox, ax_rm),\n",
    "      (ax_age, ax_dis),\n",
    "      (ax_rad, ax_tax),\n",
    "      (ax_ptr, ax_b)\n",
    "     )  = plt.subplots(nrows = 6, ncols = 2, figsize = (15, 30))\n",
    "\n",
    "\n",
    "ax_crim.set_title('Гистограмма CRIM')\n",
    "sns.distplot(data['CRIM'],  kde = False, ax = ax_crim)\n",
    "\n",
    "\n",
    "ax_zn.set_title('Гистограмма ZN')\n",
    "sns.distplot(data['ZN'], kde = False, ax = ax_zn)\n",
    "\n",
    "ax_ind.set_title('Гистограмма INDUS')\n",
    "sns.distplot(data['INDUS'], kde = False, ax = ax_ind)\n",
    "\n",
    "ax_chas.set_title('Гистограмма CHAS')\n",
    "sns.distplot(data['CHAS'], kde = False, ax = ax_chas)\n",
    "\n",
    "ax_nox.set_title('Гистограмма NOX')\n",
    "sns.distplot(data['NOX'], kde = False, ax = ax_nox)\n",
    "\n",
    "ax_rm.set_title('Гистограмма RM')\n",
    "sns.distplot(data['RM'], kde = False, ax = ax_rm)\n",
    "\n",
    "ax_age.set_title('Гистограмма AGE')\n",
    "sns.distplot(data['AGE'], kde = False, ax = ax_age)\n",
    "\n",
    "ax_dis.set_title('Гистограмма DIS')\n",
    "sns.distplot(data['DIS'], kde = False, ax = ax_dis)\n",
    "\n",
    "ax_rad.set_title('Гистограмма RAD')\n",
    "sns.distplot(data['RAD'], bins = 50, kde = False, ax = ax_rad)\n",
    "\n",
    "ax_tax.set_title('Гистограмма TAX')\n",
    "sns.distplot(data['TAX'], bins = 50, kde = False, ax = ax_tax)\n",
    "\n",
    "ax_ptr.set_title('Гистограмма PTRATIO')\n",
    "sns.distplot(data['PTRATIO'], kde = False, ax = ax_ptr)\n",
    "\n",
    "ax_b.set_title('Гистограмма B')\n",
    "sns.distplot(data['B'], kde = False, ax = ax_b)\n",
    "\n",
    "plt.show()\n"
   ]
  },
  {
   "cell_type": "code",
   "execution_count": 184,
   "metadata": {},
   "outputs": [
    {
     "data": {
      "image/png": "[encoded data removed]",
      "text/plain": [
       "<Figure size 1080x360 with 2 Axes>"
      ]
     },
     "metadata": {
      "needs_background": "light"
     },
     "output_type": "display_data"
    }
   ],
   "source": [
    "fig, (ax_lst, ax_med) = plt.subplots(nrows = 1, ncols = 2, figsize = (15, 5))\n",
    "\n",
    "ax_lst.set_title('Гистограмма LSTAT')\n",
    "sns.distplot(data['LSTAT'], kde = False, ax = ax_lst)\n",
    "\n",
    "ax_med.set_title('Гистограмма MEDV')\n",
    "sns.distplot(data['MEDV'], kde = False, ax = ax_med)\n",
    "\n",
    "plt.show()"
   ]
  },
  {
   "cell_type": "markdown",
   "metadata": {
    "colab_type": "text",
    "id": "111lURJGVrbU"
   },
   "source": [
    "Написать **линейную регрессию** на два атрибута. Допустим, мы хотим предсказать цену дома (MEDV) в Бостоне, зная что цена на дом имеет линейную зависимость с атрибутом LSTAT. "
   ]
  },
  {
   "cell_type": "markdown",
   "metadata": {
    "colab_type": "text",
    "id": "Naz_Byg1WKhm"
   },
   "source": [
    "\n",
    "\n",
    "1.   Разделить данные на 80% тренировочных, 20% тестовых\n",
    "2.   Составить модель линейной регрессии\n",
    "3.   Посчитать ошибку модели на тестовых данных\n",
    "4.   Сделать точечный график данных и полученной прямой линейной регрессии\n",
    "\n"
   ]
  },
  {
   "cell_type": "code",
   "execution_count": 201,
   "metadata": {},
   "outputs": [
    {
     "data": {
      "image/png": "[encoded data removed]",
      "text/plain": [
       "<Figure size 432x288 with 1 Axes>"
      ]
     },
     "metadata": {
      "needs_background": "light"
     },
     "output_type": "display_data"
    },
    {
     "name": "stdout",
     "output_type": "stream",
     "text": [
      "Ошибка модели 0.4801524322628758\n"
     ]
    }
   ],
   "source": [
    "sns.regplot(x= data['LSTAT'], y= data['MEDV'], data=data, fit_reg=True)\n",
    "\n",
    "medv = np.array(data['MEDV']).reshape(-1,1)\n",
    "lstat = np.array(data['LSTAT']).reshape(-1,1)\n",
    "\n",
    "from sklearn.linear_model import LinearRegression\n",
    "model = LinearRegression()\n",
    "\n",
    "from sklearn.model_selection import train_test_split\n",
    "\n",
    "X_train, X_test, y_train, y_test = train_test_split(\n",
    "    lstat,\n",
    "    medv,\n",
    "    test_size = 0.2\n",
    ")\n",
    "model.fit(X_train, y_train)\n",
    "err = model.score(X_test, y_test)\n",
    "\n",
    "plt.show()\n",
    "print('Ошибка модели',err)"
   ]
  },
  {
   "cell_type": "code",
   "execution_count": 205,
   "metadata": {},
   "outputs": [
    {
     "data": {
      "image/png": "[encoded data removed]",
      "text/plain": [
       "<Figure size 432x288 with 1 Axes>"
      ]
     },
     "metadata": {
      "needs_background": "light"
     },
     "output_type": "display_data"
    }
   ],
   "source": [
    "plt.xlabel('MDEV')\n",
    "plt.ylabel('LSTAT')\n",
    "plt.title('Линейная регрессия от одной переменной')\n",
    "\n",
    "x = np.linspace(-10, 60, 100)\n",
    "\n",
    "y = model.coef_*x + model.intercept_\n",
    "y = np.transpose(y)\n",
    "plt.plot(x,y)\n",
    "plt.plot(X_train, y_train, 'r.')\n",
    "plt.plot(X_test, y_test, 'go')\n",
    "plt.xlim(-10,60)\n",
    "plt.ylim(-10,60)\n",
    "plt.legend(['Прямая линейной регрессии', 'Тренировочные данные', 'Тестовые данные'])\n",
    "plt.show()"
   ]
  },
  {
   "cell_type": "markdown",
   "metadata": {
    "colab_type": "text",
    "id": "zqiJHPz7FUT2"
   },
   "source": [
    "Загрузить таблицу Happiness report. Посчитать матрицу ковариаций попарно. "
   ]
  },
  {
   "cell_type": "code",
   "execution_count": 224,
   "metadata": {
    "colab": {
     "base_uri": "https://localhost:8080/",
     "height": 238
    },
    "colab_type": "code",
    "id": "4FVMs-hUiv4i",
    "outputId": "4f8bb858-e745-4832-e05a-a40c48f8fa8a"
   },
   "outputs": [
    {
     "data": {
      "text/html": [
       "<div>\n",
       "<style scoped>\n",
       "    .dataframe tbody tr th:only-of-type {\n",
       "        vertical-align: middle;\n",
       "    }\n",
       "\n",
       "    .dataframe tbody tr th {\n",
       "        vertical-align: top;\n",
       "    }\n",
       "\n",
       "    .dataframe thead th {\n",
       "        text-align: right;\n",
       "    }\n",
       "</style>\n",
       "<table border=\"1\" class=\"dataframe\">\n",
       "  <thead>\n",
       "    <tr style=\"text-align: right;\">\n",
       "      <th></th>\n",
       "      <th>Country (region)</th>\n",
       "      <th>Ladder</th>\n",
       "      <th>SD of Ladder</th>\n",
       "      <th>Positive affect</th>\n",
       "      <th>Negative affect</th>\n",
       "      <th>Social support</th>\n",
       "      <th>Freedom</th>\n",
       "      <th>Corruption</th>\n",
       "      <th>Generosity</th>\n",
       "      <th>Log of GDP\\nper capita</th>\n",
       "      <th>Healthy life\\nexpectancy</th>\n",
       "    </tr>\n",
       "  </thead>\n",
       "  <tbody>\n",
       "    <tr>\n",
       "      <td>0</td>\n",
       "      <td>Finland</td>\n",
       "      <td>1</td>\n",
       "      <td>4</td>\n",
       "      <td>41.0</td>\n",
       "      <td>10.0</td>\n",
       "      <td>2.0</td>\n",
       "      <td>5.0</td>\n",
       "      <td>4.0</td>\n",
       "      <td>47.0</td>\n",
       "      <td>22.0</td>\n",
       "      <td>27.0</td>\n",
       "    </tr>\n",
       "    <tr>\n",
       "      <td>1</td>\n",
       "      <td>Denmark</td>\n",
       "      <td>2</td>\n",
       "      <td>13</td>\n",
       "      <td>24.0</td>\n",
       "      <td>26.0</td>\n",
       "      <td>4.0</td>\n",
       "      <td>6.0</td>\n",
       "      <td>3.0</td>\n",
       "      <td>22.0</td>\n",
       "      <td>14.0</td>\n",
       "      <td>23.0</td>\n",
       "    </tr>\n",
       "    <tr>\n",
       "      <td>2</td>\n",
       "      <td>Norway</td>\n",
       "      <td>3</td>\n",
       "      <td>8</td>\n",
       "      <td>16.0</td>\n",
       "      <td>29.0</td>\n",
       "      <td>3.0</td>\n",
       "      <td>3.0</td>\n",
       "      <td>8.0</td>\n",
       "      <td>11.0</td>\n",
       "      <td>7.0</td>\n",
       "      <td>12.0</td>\n",
       "    </tr>\n",
       "    <tr>\n",
       "      <td>3</td>\n",
       "      <td>Iceland</td>\n",
       "      <td>4</td>\n",
       "      <td>9</td>\n",
       "      <td>3.0</td>\n",
       "      <td>3.0</td>\n",
       "      <td>1.0</td>\n",
       "      <td>7.0</td>\n",
       "      <td>45.0</td>\n",
       "      <td>3.0</td>\n",
       "      <td>15.0</td>\n",
       "      <td>13.0</td>\n",
       "    </tr>\n",
       "    <tr>\n",
       "      <td>4</td>\n",
       "      <td>Netherlands</td>\n",
       "      <td>5</td>\n",
       "      <td>1</td>\n",
       "      <td>12.0</td>\n",
       "      <td>25.0</td>\n",
       "      <td>15.0</td>\n",
       "      <td>19.0</td>\n",
       "      <td>12.0</td>\n",
       "      <td>7.0</td>\n",
       "      <td>12.0</td>\n",
       "      <td>18.0</td>\n",
       "    </tr>\n",
       "  </tbody>\n",
       "</table>\n",
       "</div>"
      ],
      "text/plain": [
       "  Country (region)  Ladder  SD of Ladder  Positive affect  Negative affect  \\\n",
       "0          Finland       1             4             41.0             10.0   \n",
       "1          Denmark       2            13             24.0             26.0   \n",
       "2           Norway       3             8             16.0             29.0   \n",
       "3          Iceland       4             9              3.0              3.0   \n",
       "4      Netherlands       5             1             12.0             25.0   \n",
       "\n",
       "   Social support  Freedom  Corruption  Generosity  Log of GDP\\nper capita  \\\n",
       "0             2.0      5.0         4.0        47.0                    22.0   \n",
       "1             4.0      6.0         3.0        22.0                    14.0   \n",
       "2             3.0      3.0         8.0        11.0                     7.0   \n",
       "3             1.0      7.0        45.0         3.0                    15.0   \n",
       "4            15.0     19.0        12.0         7.0                    12.0   \n",
       "\n",
       "   Healthy life\\nexpectancy  \n",
       "0                      27.0  \n",
       "1                      23.0  \n",
       "2                      12.0  \n",
       "3                      13.0  \n",
       "4                      18.0  "
      ]
     },
     "execution_count": 224,
     "metadata": {},
     "output_type": "execute_result"
    }
   ],
   "source": [
    "url=\"http://yustiks.ru/dataset/world-happiness-report-2019.csv\"\n",
    "df=pd.read_csv(url)\n",
    "df.head()"
   ]
  },
  {
   "cell_type": "code",
   "execution_count": 231,
   "metadata": {},
   "outputs": [
    {
     "data": {
      "text/html": [
       "<div>\n",
       "<style scoped>\n",
       "    .dataframe tbody tr th:only-of-type {\n",
       "        vertical-align: middle;\n",
       "    }\n",
       "\n",
       "    .dataframe tbody tr th {\n",
       "        vertical-align: top;\n",
       "    }\n",
       "\n",
       "    .dataframe thead th {\n",
       "        text-align: right;\n",
       "    }\n",
       "</style>\n",
       "<table border=\"1\" class=\"dataframe\">\n",
       "  <thead>\n",
       "    <tr style=\"text-align: right;\">\n",
       "      <th></th>\n",
       "      <th>Ladder</th>\n",
       "      <th>SD of Ladder</th>\n",
       "      <th>Positive affect</th>\n",
       "      <th>Negative affect</th>\n",
       "      <th>Social support</th>\n",
       "      <th>Freedom</th>\n",
       "      <th>Corruption</th>\n",
       "      <th>Generosity</th>\n",
       "      <th>Log of GDP\\nper capita</th>\n",
       "      <th>Healthy life\\nexpectancy</th>\n",
       "    </tr>\n",
       "  </thead>\n",
       "  <tbody>\n",
       "    <tr>\n",
       "      <td>Ladder</td>\n",
       "      <td>2088.550668</td>\n",
       "      <td>1171.892806</td>\n",
       "      <td>1037.040699</td>\n",
       "      <td>1097.680164</td>\n",
       "      <td>1745.007194</td>\n",
       "      <td>1126.437205</td>\n",
       "      <td>437.435971</td>\n",
       "      <td>992.822302</td>\n",
       "      <td>1625.961768</td>\n",
       "      <td>1661.550154</td>\n",
       "    </tr>\n",
       "    <tr>\n",
       "      <td>SD of Ladder</td>\n",
       "      <td>1171.892806</td>\n",
       "      <td>2127.170144</td>\n",
       "      <td>184.695683</td>\n",
       "      <td>1298.799281</td>\n",
       "      <td>1268.032374</td>\n",
       "      <td>520.631655</td>\n",
       "      <td>498.416547</td>\n",
       "      <td>796.974460</td>\n",
       "      <td>1327.720144</td>\n",
       "      <td>1293.221942</td>\n",
       "    </tr>\n",
       "    <tr>\n",
       "      <td>Positive affect</td>\n",
       "      <td>1037.040699</td>\n",
       "      <td>184.695683</td>\n",
       "      <td>1965.293114</td>\n",
       "      <td>694.321274</td>\n",
       "      <td>880.136691</td>\n",
       "      <td>1392.962795</td>\n",
       "      <td>427.188489</td>\n",
       "      <td>826.971942</td>\n",
       "      <td>597.456937</td>\n",
       "      <td>661.012436</td>\n",
       "    </tr>\n",
       "    <tr>\n",
       "      <td>Negative affect</td>\n",
       "      <td>1097.680164</td>\n",
       "      <td>1298.799281</td>\n",
       "      <td>694.321274</td>\n",
       "      <td>1980.795272</td>\n",
       "      <td>1369.014388</td>\n",
       "      <td>835.041521</td>\n",
       "      <td>316.040288</td>\n",
       "      <td>697.807914</td>\n",
       "      <td>1091.695581</td>\n",
       "      <td>992.679651</td>\n",
       "    </tr>\n",
       "    <tr>\n",
       "      <td>Social support</td>\n",
       "      <td>1745.007194</td>\n",
       "      <td>1268.032374</td>\n",
       "      <td>880.136691</td>\n",
       "      <td>1369.014388</td>\n",
       "      <td>2099.086331</td>\n",
       "      <td>989.151079</td>\n",
       "      <td>290.978417</td>\n",
       "      <td>918.334532</td>\n",
       "      <td>1592.892086</td>\n",
       "      <td>1521.895683</td>\n",
       "    </tr>\n",
       "    <tr>\n",
       "      <td>Freedom</td>\n",
       "      <td>1126.437205</td>\n",
       "      <td>520.631655</td>\n",
       "      <td>1392.962795</td>\n",
       "      <td>835.041521</td>\n",
       "      <td>989.151079</td>\n",
       "      <td>2034.819322</td>\n",
       "      <td>784.235971</td>\n",
       "      <td>1005.233094</td>\n",
       "      <td>754.765057</td>\n",
       "      <td>841.068243</td>\n",
       "    </tr>\n",
       "    <tr>\n",
       "      <td>Corruption</td>\n",
       "      <td>437.435971</td>\n",
       "      <td>498.416547</td>\n",
       "      <td>427.188489</td>\n",
       "      <td>316.040288</td>\n",
       "      <td>290.978417</td>\n",
       "      <td>784.235971</td>\n",
       "      <td>1819.535252</td>\n",
       "      <td>536.400719</td>\n",
       "      <td>344.248921</td>\n",
       "      <td>279.475540</td>\n",
       "    </tr>\n",
       "    <tr>\n",
       "      <td>Generosity</td>\n",
       "      <td>992.822302</td>\n",
       "      <td>796.974460</td>\n",
       "      <td>826.971942</td>\n",
       "      <td>697.807914</td>\n",
       "      <td>918.334532</td>\n",
       "      <td>1005.233094</td>\n",
       "      <td>536.400719</td>\n",
       "      <td>2000.574460</td>\n",
       "      <td>891.584892</td>\n",
       "      <td>891.374460</td>\n",
       "    </tr>\n",
       "    <tr>\n",
       "      <td>Log of GDP\\nper capita</td>\n",
       "      <td>1625.961768</td>\n",
       "      <td>1327.720144</td>\n",
       "      <td>597.456937</td>\n",
       "      <td>1091.695581</td>\n",
       "      <td>1592.892086</td>\n",
       "      <td>754.765057</td>\n",
       "      <td>344.248921</td>\n",
       "      <td>891.584892</td>\n",
       "      <td>1879.769579</td>\n",
       "      <td>1665.842035</td>\n",
       "    </tr>\n",
       "    <tr>\n",
       "      <td>Healthy life\\nexpectancy</td>\n",
       "      <td>1661.550154</td>\n",
       "      <td>1293.221942</td>\n",
       "      <td>661.012436</td>\n",
       "      <td>992.679651</td>\n",
       "      <td>1521.895683</td>\n",
       "      <td>841.068243</td>\n",
       "      <td>279.475540</td>\n",
       "      <td>891.374460</td>\n",
       "      <td>1665.842035</td>\n",
       "      <td>1934.236948</td>\n",
       "    </tr>\n",
       "  </tbody>\n",
       "</table>\n",
       "</div>"
      ],
      "text/plain": [
       "                               Ladder  SD of Ladder  Positive affect  \\\n",
       "Ladder                    2088.550668   1171.892806      1037.040699   \n",
       "SD of Ladder              1171.892806   2127.170144       184.695683   \n",
       "Positive affect           1037.040699    184.695683      1965.293114   \n",
       "Negative affect           1097.680164   1298.799281       694.321274   \n",
       "Social support            1745.007194   1268.032374       880.136691   \n",
       "Freedom                   1126.437205    520.631655      1392.962795   \n",
       "Corruption                 437.435971    498.416547       427.188489   \n",
       "Generosity                 992.822302    796.974460       826.971942   \n",
       "Log of GDP\\nper capita    1625.961768   1327.720144       597.456937   \n",
       "Healthy life\\nexpectancy  1661.550154   1293.221942       661.012436   \n",
       "\n",
       "                          Negative affect  Social support      Freedom  \\\n",
       "Ladder                        1097.680164     1745.007194  1126.437205   \n",
       "SD of Ladder                  1298.799281     1268.032374   520.631655   \n",
       "Positive affect                694.321274      880.136691  1392.962795   \n",
       "Negative affect               1980.795272     1369.014388   835.041521   \n",
       "Social support                1369.014388     2099.086331   989.151079   \n",
       "Freedom                        835.041521      989.151079  2034.819322   \n",
       "Corruption                     316.040288      290.978417   784.235971   \n",
       "Generosity                     697.807914      918.334532  1005.233094   \n",
       "Log of GDP\\nper capita        1091.695581     1592.892086   754.765057   \n",
       "Healthy life\\nexpectancy       992.679651     1521.895683   841.068243   \n",
       "\n",
       "                           Corruption   Generosity  Log of GDP\\nper capita  \\\n",
       "Ladder                     437.435971   992.822302             1625.961768   \n",
       "SD of Ladder               498.416547   796.974460             1327.720144   \n",
       "Positive affect            427.188489   826.971942              597.456937   \n",
       "Negative affect            316.040288   697.807914             1091.695581   \n",
       "Social support             290.978417   918.334532             1592.892086   \n",
       "Freedom                    784.235971  1005.233094              754.765057   \n",
       "Corruption                1819.535252   536.400719              344.248921   \n",
       "Generosity                 536.400719  2000.574460              891.584892   \n",
       "Log of GDP\\nper capita     344.248921   891.584892             1879.769579   \n",
       "Healthy life\\nexpectancy   279.475540   891.374460             1665.842035   \n",
       "\n",
       "                          Healthy life\\nexpectancy  \n",
       "Ladder                                 1661.550154  \n",
       "SD of Ladder                           1293.221942  \n",
       "Positive affect                         661.012436  \n",
       "Negative affect                         992.679651  \n",
       "Social support                         1521.895683  \n",
       "Freedom                                 841.068243  \n",
       "Corruption                              279.475540  \n",
       "Generosity                              891.374460  \n",
       "Log of GDP\\nper capita                 1665.842035  \n",
       "Healthy life\\nexpectancy               1934.236948  "
      ]
     },
     "execution_count": 231,
     "metadata": {},
     "output_type": "execute_result"
    }
   ],
   "source": [
    "#Матрица ковариаций\n",
    "#df.fillna(0, inplace = True)\n",
    "df_nona = df.copy()\n",
    "df_nona.dropna(inplace = True)\n",
    "df_nona.cov()"
   ]
  },
  {
   "cell_type": "markdown",
   "metadata": {
    "colab_type": "text",
    "id": "AEV-w8iDrzwl"
   },
   "source": [
    "Сколько в данной таблице отсутствующих значений? Написать ответ. Если есть отсутствующие значения в выборке country, убрать (drop)."
   ]
  },
  {
   "cell_type": "code",
   "execution_count": 232,
   "metadata": {},
   "outputs": [
    {
     "data": {
      "text/plain": [
       "Country (region)            0\n",
       "Ladder                      0\n",
       "SD of Ladder                0\n",
       "Positive affect             1\n",
       "Negative affect             1\n",
       "Social support              1\n",
       "Freedom                     1\n",
       "Corruption                  8\n",
       "Generosity                  1\n",
       "Log of GDP\\nper capita      4\n",
       "Healthy life\\nexpectancy    6\n",
       "dtype: int64"
      ]
     },
     "execution_count": 232,
     "metadata": {},
     "output_type": "execute_result"
    }
   ],
   "source": [
    "#количество нулевых значений\n",
    "df.isnull().sum()"
   ]
  },
  {
   "cell_type": "code",
   "execution_count": 233,
   "metadata": {},
   "outputs": [
    {
     "name": "stdout",
     "output_type": "stream",
     "text": [
      "156\n",
      "140\n"
     ]
    }
   ],
   "source": [
    "print('Количество строк до удаления пустых значений:', df.shape[0])\n",
    "print('Количество строк после удаления:', df_nona.shape[0])"
   ]
  },
  {
   "cell_type": "markdown",
   "metadata": {
    "colab_type": "text",
    "id": "Sa3-2X8RputT"
   },
   "source": [
    "Сколько стран в выборке? Написать ответ. "
   ]
  },
  {
   "cell_type": "code",
   "execution_count": 245,
   "metadata": {},
   "outputs": [
    {
     "name": "stdout",
     "output_type": "stream",
     "text": [
      "Количесство стран до удаления пустых занчений: 156\n",
      "Количество стран после удаления: 140\n"
     ]
    }
   ],
   "source": [
    "print('Количесство стран до удаления пустых занчений:', len(df['Country (region)'].unique()))\n",
    "print('Количество стран после удаления:', len(df_nona['Country (region)'].unique()))"
   ]
  },
  {
   "cell_type": "markdown",
   "metadata": {
    "colab_type": "text",
    "id": "Xo3Q738TsMBV"
   },
   "source": [
    "Построить матрицу корреляций для таблицы. Какие можно сделать выводы?"
   ]
  },
  {
   "cell_type": "code",
   "execution_count": 246,
   "metadata": {},
   "outputs": [
    {
     "data": {
      "text/html": [
       "<div>\n",
       "<style scoped>\n",
       "    .dataframe tbody tr th:only-of-type {\n",
       "        vertical-align: middle;\n",
       "    }\n",
       "\n",
       "    .dataframe tbody tr th {\n",
       "        vertical-align: top;\n",
       "    }\n",
       "\n",
       "    .dataframe thead th {\n",
       "        text-align: right;\n",
       "    }\n",
       "</style>\n",
       "<table border=\"1\" class=\"dataframe\">\n",
       "  <thead>\n",
       "    <tr style=\"text-align: right;\">\n",
       "      <th></th>\n",
       "      <th>Ladder</th>\n",
       "      <th>SD of Ladder</th>\n",
       "      <th>Positive affect</th>\n",
       "      <th>Negative affect</th>\n",
       "      <th>Social support</th>\n",
       "      <th>Freedom</th>\n",
       "      <th>Corruption</th>\n",
       "      <th>Generosity</th>\n",
       "      <th>Log of GDP\\nper capita</th>\n",
       "      <th>Healthy life\\nexpectancy</th>\n",
       "    </tr>\n",
       "  </thead>\n",
       "  <tbody>\n",
       "    <tr>\n",
       "      <td>Ladder</td>\n",
       "      <td>1.000000</td>\n",
       "      <td>0.555987</td>\n",
       "      <td>0.511870</td>\n",
       "      <td>0.539677</td>\n",
       "      <td>0.833412</td>\n",
       "      <td>0.546414</td>\n",
       "      <td>0.224394</td>\n",
       "      <td>0.485704</td>\n",
       "      <td>0.820608</td>\n",
       "      <td>0.826677</td>\n",
       "    </tr>\n",
       "    <tr>\n",
       "      <td>SD of Ladder</td>\n",
       "      <td>0.555987</td>\n",
       "      <td>1.000000</td>\n",
       "      <td>0.090332</td>\n",
       "      <td>0.632734</td>\n",
       "      <td>0.600087</td>\n",
       "      <td>0.250246</td>\n",
       "      <td>0.253344</td>\n",
       "      <td>0.386337</td>\n",
       "      <td>0.663977</td>\n",
       "      <td>0.637554</td>\n",
       "    </tr>\n",
       "    <tr>\n",
       "      <td>Positive affect</td>\n",
       "      <td>0.511870</td>\n",
       "      <td>0.090332</td>\n",
       "      <td>1.000000</td>\n",
       "      <td>0.351906</td>\n",
       "      <td>0.433333</td>\n",
       "      <td>0.696567</td>\n",
       "      <td>0.225905</td>\n",
       "      <td>0.417061</td>\n",
       "      <td>0.310843</td>\n",
       "      <td>0.339032</td>\n",
       "    </tr>\n",
       "    <tr>\n",
       "      <td>Negative affect</td>\n",
       "      <td>0.539677</td>\n",
       "      <td>0.632734</td>\n",
       "      <td>0.351906</td>\n",
       "      <td>1.000000</td>\n",
       "      <td>0.671387</td>\n",
       "      <td>0.415935</td>\n",
       "      <td>0.166472</td>\n",
       "      <td>0.350541</td>\n",
       "      <td>0.565756</td>\n",
       "      <td>0.507148</td>\n",
       "    </tr>\n",
       "    <tr>\n",
       "      <td>Social support</td>\n",
       "      <td>0.833412</td>\n",
       "      <td>0.600087</td>\n",
       "      <td>0.433333</td>\n",
       "      <td>0.671387</td>\n",
       "      <td>1.000000</td>\n",
       "      <td>0.478613</td>\n",
       "      <td>0.148890</td>\n",
       "      <td>0.448135</td>\n",
       "      <td>0.801898</td>\n",
       "      <td>0.755292</td>\n",
       "    </tr>\n",
       "    <tr>\n",
       "      <td>Freedom</td>\n",
       "      <td>0.546414</td>\n",
       "      <td>0.250246</td>\n",
       "      <td>0.696567</td>\n",
       "      <td>0.415935</td>\n",
       "      <td>0.478613</td>\n",
       "      <td>1.000000</td>\n",
       "      <td>0.407571</td>\n",
       "      <td>0.498226</td>\n",
       "      <td>0.385919</td>\n",
       "      <td>0.423949</td>\n",
       "    </tr>\n",
       "    <tr>\n",
       "      <td>Corruption</td>\n",
       "      <td>0.224394</td>\n",
       "      <td>0.253344</td>\n",
       "      <td>0.225905</td>\n",
       "      <td>0.166472</td>\n",
       "      <td>0.148890</td>\n",
       "      <td>0.407571</td>\n",
       "      <td>1.000000</td>\n",
       "      <td>0.281146</td>\n",
       "      <td>0.186140</td>\n",
       "      <td>0.148973</td>\n",
       "    </tr>\n",
       "    <tr>\n",
       "      <td>Generosity</td>\n",
       "      <td>0.485704</td>\n",
       "      <td>0.386337</td>\n",
       "      <td>0.417061</td>\n",
       "      <td>0.350541</td>\n",
       "      <td>0.448135</td>\n",
       "      <td>0.498226</td>\n",
       "      <td>0.281146</td>\n",
       "      <td>1.000000</td>\n",
       "      <td>0.459762</td>\n",
       "      <td>0.453135</td>\n",
       "    </tr>\n",
       "    <tr>\n",
       "      <td>Log of GDP\\nper capita</td>\n",
       "      <td>0.820608</td>\n",
       "      <td>0.663977</td>\n",
       "      <td>0.310843</td>\n",
       "      <td>0.565756</td>\n",
       "      <td>0.801898</td>\n",
       "      <td>0.385919</td>\n",
       "      <td>0.186140</td>\n",
       "      <td>0.459762</td>\n",
       "      <td>1.000000</td>\n",
       "      <td>0.873628</td>\n",
       "    </tr>\n",
       "    <tr>\n",
       "      <td>Healthy life\\nexpectancy</td>\n",
       "      <td>0.826677</td>\n",
       "      <td>0.637554</td>\n",
       "      <td>0.339032</td>\n",
       "      <td>0.507148</td>\n",
       "      <td>0.755292</td>\n",
       "      <td>0.423949</td>\n",
       "      <td>0.148973</td>\n",
       "      <td>0.453135</td>\n",
       "      <td>0.873628</td>\n",
       "      <td>1.000000</td>\n",
       "    </tr>\n",
       "  </tbody>\n",
       "</table>\n",
       "</div>"
      ],
      "text/plain": [
       "                            Ladder  SD of Ladder  Positive affect  \\\n",
       "Ladder                    1.000000      0.555987         0.511870   \n",
       "SD of Ladder              0.555987      1.000000         0.090332   \n",
       "Positive affect           0.511870      0.090332         1.000000   \n",
       "Negative affect           0.539677      0.632734         0.351906   \n",
       "Social support            0.833412      0.600087         0.433333   \n",
       "Freedom                   0.546414      0.250246         0.696567   \n",
       "Corruption                0.224394      0.253344         0.225905   \n",
       "Generosity                0.485704      0.386337         0.417061   \n",
       "Log of GDP\\nper capita    0.820608      0.663977         0.310843   \n",
       "Healthy life\\nexpectancy  0.826677      0.637554         0.339032   \n",
       "\n",
       "                          Negative affect  Social support   Freedom  \\\n",
       "Ladder                           0.539677        0.833412  0.546414   \n",
       "SD of Ladder                     0.632734        0.600087  0.250246   \n",
       "Positive affect                  0.351906        0.433333  0.696567   \n",
       "Negative affect                  1.000000        0.671387  0.415935   \n",
       "Social support                   0.671387        1.000000  0.478613   \n",
       "Freedom                          0.415935        0.478613  1.000000   \n",
       "Corruption                       0.166472        0.148890  0.407571   \n",
       "Generosity                       0.350541        0.448135  0.498226   \n",
       "Log of GDP\\nper capita           0.565756        0.801898  0.385919   \n",
       "Healthy life\\nexpectancy         0.507148        0.755292  0.423949   \n",
       "\n",
       "                          Corruption  Generosity  Log of GDP\\nper capita  \\\n",
       "Ladder                      0.224394    0.485704                0.820608   \n",
       "SD of Ladder                0.253344    0.386337                0.663977   \n",
       "Positive affect             0.225905    0.417061                0.310843   \n",
       "Negative affect             0.166472    0.350541                0.565756   \n",
       "Social support              0.148890    0.448135                0.801898   \n",
       "Freedom                     0.407571    0.498226                0.385919   \n",
       "Corruption                  1.000000    0.281146                0.186140   \n",
       "Generosity                  0.281146    1.000000                0.459762   \n",
       "Log of GDP\\nper capita      0.186140    0.459762                1.000000   \n",
       "Healthy life\\nexpectancy    0.148973    0.453135                0.873628   \n",
       "\n",
       "                          Healthy life\\nexpectancy  \n",
       "Ladder                                    0.826677  \n",
       "SD of Ladder                              0.637554  \n",
       "Positive affect                           0.339032  \n",
       "Negative affect                           0.507148  \n",
       "Social support                            0.755292  \n",
       "Freedom                                   0.423949  \n",
       "Corruption                                0.148973  \n",
       "Generosity                                0.453135  \n",
       "Log of GDP\\nper capita                    0.873628  \n",
       "Healthy life\\nexpectancy                  1.000000  "
      ]
     },
     "execution_count": 246,
     "metadata": {},
     "output_type": "execute_result"
    }
   ],
   "source": [
    "df_nona.corr()"
   ]
  },
  {
   "cell_type": "markdown",
   "metadata": {},
   "source": [
    "Выводы: рейтинг страны (ladder) имеет слабую (если значимой корреляцией считать 90%+) прямую связь от социальной поддержки(social support), от показателя уровня валового внутреннего продукт на человека (Log of GDP\\nper capita) и здоровье (Healthy life)."
   ]
  },
  {
   "cell_type": "markdown",
   "metadata": {
    "colab_type": "text",
    "id": "bwPmjFqesXOC"
   },
   "source": [
    "# Дискретное распределение случайной величины"
   ]
  },
  {
   "cell_type": "markdown",
   "metadata": {
    "colab_type": "text",
    "id": "5xwVwFr_s11_"
   },
   "source": [
    "Напишите код для моделирования 10 подбрасываний игрального кубика. Начертите диаграму histogram. Какое это распределение?"
   ]
  },
  {
   "cell_type": "code",
   "execution_count": 0,
   "metadata": {
    "colab": {},
    "colab_type": "code",
    "id": "3EEu6ofKs0x7"
   },
   "outputs": [],
   "source": []
  },
  {
   "cell_type": "markdown",
   "metadata": {
    "colab_type": "text",
    "id": "irGnJ9bxtAor"
   },
   "source": [
    "моделируйте 1000 раз сумму по 100 подбрасываний. Начертите диаграму histogram. Почему график изменился? Почему можно применить центральную предельную теорему?"
   ]
  },
  {
   "cell_type": "code",
   "execution_count": 0,
   "metadata": {
    "colab": {},
    "colab_type": "code",
    "id": "v0It8sBStGcI"
   },
   "outputs": [],
   "source": []
  }
 ],
 "metadata": {
  "colab": {
   "include_colab_link": true,
   "name": "dz_2.ipynb",
   "provenance": []
  },
  "kernelspec": {
   "display_name": "Python 3",
   "language": "python",
   "name": "python3"
  },
  "language_info": {
   "codemirror_mode": {
    "name": "ipython",
    "version": 3
   },
   "file_extension": ".py",
   "mimetype": "text/x-python",
   "name": "python",
   "nbconvert_exporter": "python",
   "pygments_lexer": "ipython3",
   "version": "3.7.4"
  }
 },
 "nbformat": 4,
 "nbformat_minor": 1
}
